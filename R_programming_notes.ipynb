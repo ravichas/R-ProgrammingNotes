{
  "nbformat": 4,
  "nbformat_minor": 0,
  "metadata": {
    "colab": {
      "private_outputs": true,
      "provenance": [],
      "authorship_tag": "ABX9TyNj7ar5tPiZCaN5CzP1862+",
      "include_colab_link": true
    },
    "kernelspec": {
      "name": "ir",
      "display_name": "R"
    },
    "language_info": {
      "name": "R"
    }
  },
  "cells": [
    {
      "cell_type": "markdown",
      "metadata": {
        "id": "view-in-github",
        "colab_type": "text"
      },
      "source": [
        "<a href=\"https://colab.research.google.com/github/ravichas/R-ProgrammingNotes/blob/main/R_programming_notes.ipynb\" target=\"_parent\"><img src=\"https://colab.research.google.com/assets/colab-badge.svg\" alt=\"Open In Colab\"/></a>"
      ]
    },
    {
      "cell_type": "markdown",
      "source": [
        "# R Programming Notes"
      ],
      "metadata": {
        "id": "srcJ0EK9TnqC"
      }
    },
    {
      "cell_type": "markdown",
      "source": [
        "The notebook was prepared and tested on COLAB. Click the link \"Open in COLAB\" to run the notebook.\n",
        "If you prefer to run/save the notebook in COLAB/Google-drive, you need a Google account. "
      ],
      "metadata": {
        "id": "W9DmBQj_wEqR"
      }
    },
    {
      "cell_type": "markdown",
      "source": [
        "COLAB hints:\n",
        "\n",
        "* use  **ctrl-M-**M to convert a cell to a text \n",
        "* use. **ctrl-M-**Y to convert a text to a cell"
      ],
      "metadata": {
        "id": "rj_aoEFOwbBs"
      }
    },
    {
      "cell_type": "markdown",
      "source": [
        "The following code chunks are based on the following sources: \n",
        "* \"R in Action\" (3rd ed) by Robert I. Kabacoff\n",
        "\n"
      ],
      "metadata": {
        "id": "e8gQiVSXTXp1"
      }
    },
    {
      "cell_type": "markdown",
      "source": [
        "Libraries (& dependencies) used in the notebook: \n",
        "* `vcd`\n",
        "* `psych`\n",
        "* `carData`\n",
        "* `tidyverse`\n",
        "* `sqldf`\n",
        "* `mosaicData`\n",
        "* `MultiRNG`\n",
        "* `Hmisc`\n",
        "* `pastecs`\n",
        "* `gmodels`\n"
      ],
      "metadata": {
        "id": "VM38aLuKvUoE"
      }
    },
    {
      "cell_type": "markdown",
      "source": [
        "I have provided an option to install all the R packages used in this notebook. \n",
        "For COLAB, I would recommend installing only when you need them. If you are going to use this notebook in your own laptop, then it is worth installing all \n",
        "the libraries at the start of the exercise.  "
      ],
      "metadata": {
        "id": "Ohrh8nLFr9sI"
      }
    },
    {
      "cell_type": "code",
      "source": [
        "# code based on UCLA, stats.oarc.ucla.edu, page\n",
        "\n",
        "mypackages <- c(\"vcd\", \"psych\", \"carData\", \"sqldf\", \"mosaicData\", \"multiRNG\",\n",
        "              \"Hmisc\", \"pastecs\", \"gmodels\")\n",
        "\n",
        "a <- installed.packages()\n",
        "packages <- a[,1] \n",
        "is.element(mypackages, packages)"
      ],
      "metadata": {
        "id": "0aNYh_Urp78_"
      },
      "execution_count": null,
      "outputs": []
    },
    {
      "cell_type": "markdown",
      "source": [
        "Install the packages that are missing. "
      ],
      "metadata": {
        "id": "jHUp5JRnsir9"
      }
    },
    {
      "cell_type": "code",
      "source": [
        "## for testing\n",
        "## mypackages <- c(\"gmodels\", \"psych\")\n",
        "\n",
        "#install.packages(mypackages)"
      ],
      "metadata": {
        "id": "hm1D9wsfrGAo"
      },
      "execution_count": null,
      "outputs": []
    },
    {
      "cell_type": "markdown",
      "source": [
        "## Load the libraries"
      ],
      "metadata": {
        "id": "7FvESf8cs1yb"
      }
    },
    {
      "cell_type": "code",
      "source": [
        "library(vcd)\n",
        "library(psych)\n",
        "library(carData)\n",
        "library(sqldf)\n",
        "library(mosaicData)\n",
        "library(multiRNG)\n",
        "library(Hmisc)\n",
        "library(pastecs)\n",
        "library(gmodels) \n"
      ],
      "metadata": {
        "id": "MGu9fxWYpZEL"
      },
      "execution_count": null,
      "outputs": []
    },
    {
      "cell_type": "markdown",
      "source": [
        "## Set general options"
      ],
      "metadata": {
        "id": "i4cu-utKs5LI"
      }
    },
    {
      "cell_type": "code",
      "source": [
        "options(repr.plot.width = 8, repr.plot.height = 8)"
      ],
      "metadata": {
        "id": "Zz44PR8pqzz4"
      },
      "execution_count": null,
      "outputs": []
    },
    {
      "cell_type": "code",
      "source": [
        "# tidyverse comes with COLAB; no need to install in COLAB, \n",
        "# unless you need a specific version\n",
        "library(tidyverse)"
      ],
      "metadata": {
        "id": "733EEIENTi0o"
      },
      "execution_count": null,
      "outputs": []
    },
    {
      "cell_type": "code",
      "source": [
        "library(tibble)\n",
        "mtcars_t <- as_tibble(mtcars)"
      ],
      "metadata": {
        "id": "ye-_8DbZZBEc"
      },
      "execution_count": null,
      "outputs": []
    },
    {
      "cell_type": "code",
      "source": [
        "head(mtcars)"
      ],
      "metadata": {
        "id": "0Euv3uGTZNZ1"
      },
      "execution_count": null,
      "outputs": []
    },
    {
      "cell_type": "markdown",
      "source": [
        "## Tibbles\n",
        "If you dont want surprises, tibbles are your best bet. For example\n",
        "* strings with gaps will still be the same\n",
        "* Chars will not be converte to factors by default "
      ],
      "metadata": {
        "id": "tbd5s0C_ZdVg"
      }
    },
    {
      "cell_type": "code",
      "source": [
        "head(mtcars_t)"
      ],
      "metadata": {
        "id": "OFsZhVbmTsXn"
      },
      "execution_count": null,
      "outputs": []
    },
    {
      "cell_type": "code",
      "source": [
        "mtcars[, \"mpg\"]"
      ],
      "metadata": {
        "id": "VGj7cM3MZYYk"
      },
      "execution_count": null,
      "outputs": []
    },
    {
      "cell_type": "code",
      "source": [
        "head(mtcars_t[, \"mpg\"]) # still a dataframe"
      ],
      "metadata": {
        "id": "4uYDbBtrZYVL"
      },
      "execution_count": null,
      "outputs": []
    },
    {
      "cell_type": "code",
      "source": [
        "# Caveats\n",
        "x <- c(5,6,1,2,3)"
      ],
      "metadata": {
        "id": "Oa_0YyR9ZYSD"
      },
      "execution_count": null,
      "outputs": []
    },
    {
      "cell_type": "code",
      "source": [
        "x[20] <- 5 \n",
        "x"
      ],
      "metadata": {
        "id": "e8av80LgZYOa"
      },
      "execution_count": null,
      "outputs": []
    },
    {
      "cell_type": "code",
      "source": [
        "# creating an empty dataframe ; note edit is not supported in COLAB \n",
        "\n",
        "# mydata <- data.frame(age=numeric(0), gender=character(0),\n",
        "#                      weight=numeric(0))\n",
        "# mydata <- edit(mydata)"
      ],
      "metadata": {
        "id": "vZG38iS8ZYKi"
      },
      "execution_count": null,
      "outputs": []
    },
    {
      "cell_type": "markdown",
      "source": [
        "## Important dplyr functions\n",
        "\n",
        "\n",
        "*   select()\n",
        "*   filter()\n",
        "*.  mutate()\n",
        "*.  rename()\n",
        "*.  recode(). # recode variable values\n",
        "*.  arrange() # order rows by var names\n",
        "\n"
      ],
      "metadata": {
        "id": "HRJ8f_MweIZn"
      }
    },
    {
      "cell_type": "markdown",
      "source": [
        "## SQL in R"
      ],
      "metadata": {
        "id": "KrrDXa5quaTh"
      }
    },
    {
      "cell_type": "code",
      "source": [
        "install.packages(\"sqldf\")"
      ],
      "metadata": {
        "id": "A302pLwXbBEi"
      },
      "execution_count": null,
      "outputs": []
    },
    {
      "cell_type": "code",
      "source": [
        "library(sqldf)"
      ],
      "metadata": {
        "id": "6WAksp4MbBHq"
      },
      "execution_count": null,
      "outputs": []
    },
    {
      "cell_type": "code",
      "source": [
        "head(mtcars)"
      ],
      "metadata": {
        "id": "q9KTrja-fGBL"
      },
      "execution_count": null,
      "outputs": []
    },
    {
      "cell_type": "code",
      "source": [
        "newdf <- sqldf(\"select * from mtcars where carb = 1 order by mpg\",\n",
        "                row.names=TRUE)"
      ],
      "metadata": {
        "id": "ZoUaj-W-bBBb"
      },
      "execution_count": null,
      "outputs": []
    },
    {
      "cell_type": "code",
      "source": [
        "newdf"
      ],
      "metadata": {
        "id": "_y1dEVG2f3AG"
      },
      "execution_count": null,
      "outputs": []
    },
    {
      "cell_type": "code",
      "source": [
        "sqldf(\"select avg(mpg) as avg_mpg, avg(disp) as avg_disp, gear \n",
        "       from mtcars where cyl in (4,6) group by gear\")"
      ],
      "metadata": {
        "id": "NLyK2gqtbA7K"
      },
      "execution_count": null,
      "outputs": []
    },
    {
      "cell_type": "code",
      "source": [
        "install.packages(\"mosaicData\")"
      ],
      "metadata": {
        "id": "LQdfj348higR"
      },
      "execution_count": null,
      "outputs": []
    },
    {
      "cell_type": "markdown",
      "source": [
        "## ggplot2"
      ],
      "metadata": {
        "id": "Ztynmk7bugdi"
      }
    },
    {
      "cell_type": "code",
      "source": [
        "library(ggplot2)\n",
        "library(mosaicData)"
      ],
      "metadata": {
        "id": "kVTV-19abA4k"
      },
      "execution_count": null,
      "outputs": []
    },
    {
      "cell_type": "markdown",
      "source": [
        "\n",
        "\n",
        "```\n",
        "ggplot(data = <DATA>) +\n",
        "    <GEOM_FUNCTION>(mapping = aes(<MAPPINGS>)) \n",
        "```\n",
        "\n"
      ],
      "metadata": {
        "id": "pw9lfgO2U8jn"
      }
    },
    {
      "cell_type": "code",
      "source": [
        "colnames(CPS85)"
      ],
      "metadata": {
        "id": "D0yhziObiCD7"
      },
      "execution_count": null,
      "outputs": []
    },
    {
      "cell_type": "code",
      "source": [
        "head(CPS85, 3)"
      ],
      "metadata": {
        "id": "HRPxzWUniHAx"
      },
      "execution_count": null,
      "outputs": []
    },
    {
      "cell_type": "code",
      "source": [
        "ggplot(data = CPS85, mapping = aes(x=exper, y = wage)) +\n",
        "  geom_point()\n",
        "      "
      ],
      "metadata": {
        "id": "L4s3MWgRbA08"
      },
      "execution_count": null,
      "outputs": []
    },
    {
      "cell_type": "code",
      "source": [
        "CPS85 <- CPS85[CPS85$wage < 40, ]\n",
        "ggplot(data = CPS85, mapping = aes(x = exper, y = wage)) + \n",
        "  geom_point(color=\"cornflowerblue\", alpha=0.7, size=1.5) + \n",
        "  geom_smooth(method=\"lm\") + \n",
        "  theme_bw()"
      ],
      "metadata": {
        "id": "z7BM5TvvTv6W"
      },
      "execution_count": null,
      "outputs": []
    },
    {
      "cell_type": "code",
      "source": [
        "#Grouping; color and shape are placed inside aes because outside of \n",
        "# aes, they are unknown\n",
        "ggplot(data = CPS85, \n",
        "  mapping = aes(x = exper, y = wage, color=sex, shape=sex, linetype=sex)) + \n",
        "  geom_point(alpha=0.7, size=1.5) + \n",
        "  geom_smooth(method=\"lm\", se=FALSE, size=1.5) + \n",
        "  theme_bw()"
      ],
      "metadata": {
        "id": "OqE6kc4AVSft"
      },
      "execution_count": null,
      "outputs": []
    },
    {
      "cell_type": "markdown",
      "source": [
        "X and Y axis tickmarks and labels"
      ],
      "metadata": {
        "id": "kRcOVIAznyjc"
      }
    },
    {
      "cell_type": "code",
      "source": [
        "ggplot(data = CPS85, \n",
        "  mapping = aes(x = exper, y = wage, color=sex, shape=sex, linetype=sex)) + \n",
        "  geom_point(alpha=0.7, size=1.5) + \n",
        "  geom_smooth(method=\"lm\", se=FALSE, size=1.5) + \n",
        "  scale_x_continuous(breaks=seq(0, 70, 10)) + \n",
        "  scale_y_continuous(breaks=seq(0, 30, 5), label=scales::dollar) + \n",
        "  scale_color_manual(values=c(\"indianred3\", \"cornflowerblue\")) + \n",
        "  theme_bw()"
      ],
      "metadata": {
        "id": "1mWYbmJKmE6p"
      },
      "execution_count": null,
      "outputs": []
    },
    {
      "cell_type": "markdown",
      "source": [
        "\n",
        "\n",
        "```\n",
        "scale_x_discreate, scale_y_discrete: axes representing categorical vars \n",
        "scale_x_continuous(): Scales the x and y quantitative vars;\n",
        "```\n",
        "\n"
      ],
      "metadata": {
        "id": "FyxCdOPLoN1h"
      }
    },
    {
      "cell_type": "code",
      "source": [
        "head(CPS85, 3)"
      ],
      "metadata": {
        "id": "Z5hsfi7zp8kP"
      },
      "execution_count": null,
      "outputs": []
    },
    {
      "cell_type": "code",
      "source": [
        "table(CPS85$sector)"
      ],
      "metadata": {
        "id": "sKsbpgboqGjj"
      },
      "execution_count": null,
      "outputs": []
    },
    {
      "cell_type": "code",
      "source": [
        "ggplot(data = CPS85, \n",
        "  mapping = aes(x = exper, y = wage, color=sex, shape=sex, linetype=sex)) + \n",
        "  geom_point(alpha=0.7, size=1.5) + \n",
        "  geom_smooth(method=\"lm\", se=FALSE, size=1.5) + \n",
        "  scale_x_continuous(breaks=seq(0, 70, 10)) + \n",
        "  scale_y_continuous(breaks=seq(0, 30, 5), label=scales::dollar) + \n",
        "  scale_color_manual(values=c(\"indianred3\", \"cornflowerblue\")) + \n",
        "  facet_wrap(~sector) +\n",
        "  theme_bw();"
      ],
      "metadata": {
        "id": "ONDH0J47m0AU"
      },
      "execution_count": null,
      "outputs": []
    },
    {
      "cell_type": "code",
      "source": [],
      "metadata": {
        "id": "gsVP-XPSpzQ7"
      },
      "execution_count": null,
      "outputs": []
    },
    {
      "cell_type": "code",
      "source": [
        "ggplot(data = CPS85, \n",
        "  mapping = aes(x = exper, y = wage, color=sex, shape=sex, linetype=sex)) + \n",
        "  geom_point(alpha=0.7, size=1.5) + \n",
        "  geom_smooth(method=\"lm\", se=FALSE, size=1.5) + \n",
        "  scale_x_continuous(breaks=seq(0, 70, 10)) + \n",
        "  scale_y_continuous(breaks=seq(0, 30, 5), label=scales::dollar) + \n",
        "  scale_color_manual(values=c(\"indianred3\", \"cornflowerblue\")) + \n",
        "  facet_wrap(~sector) +\n",
        "  labs(title = \"Relationship between wages & experience\",\n",
        "       subtitle = \"Current Population Survey\",\n",
        "       caption = \"Source: http://mosaic-web.org/\",\n",
        "       x = \"Years of Experience\",\n",
        "       y = \"Hourly Wage\",\n",
        "       color = \"Gender\", shape = \"Gender\", linetype = \"Gender\") + \n",
        "  theme_bw();"
      ],
      "metadata": {
        "id": "DdB5PirksLA-"
      },
      "execution_count": null,
      "outputs": []
    },
    {
      "cell_type": "code",
      "source": [
        "# Saving the plot\n",
        "\n",
        "ggplot(mtcars, aes(x=mpg)) + \n",
        "  geom_histogram() \n",
        "ggsave(file = \"mtcars_hist.pdf\")"
      ],
      "metadata": {
        "id": "xY6v5mEssk5h"
      },
      "execution_count": null,
      "outputs": []
    },
    {
      "cell_type": "code",
      "source": [
        "head(mtcars,3)"
      ],
      "metadata": {
        "id": "6-Os2FuPt8do"
      },
      "execution_count": null,
      "outputs": []
    },
    {
      "cell_type": "code",
      "source": [
        "# scale the data \n",
        "# scale when applied will work on columns\n",
        "\n",
        "mtcars_s <- mtcars %>% select(mpg, drat, wt, qsec)"
      ],
      "metadata": {
        "id": "J1_Rr4Chu8WT"
      },
      "execution_count": null,
      "outputs": []
    },
    {
      "cell_type": "markdown",
      "source": [
        "## Data scaling\n"
      ],
      "metadata": {
        "id": "6iIS-kafvXLJ"
      }
    },
    {
      "cell_type": "code",
      "source": [
        "mpg_mean <- mean(mtcars_t$mpg); mpg_sd <- sd(mtcars_t$mpg)\n",
        "mpg_mean\n",
        "mpg_sd\n",
        "(mtcars_t$mpg - mpg_mean)/mpg_sd"
      ],
      "metadata": {
        "id": "gl4ZILWyvfX4"
      },
      "execution_count": null,
      "outputs": []
    },
    {
      "cell_type": "code",
      "source": [
        "head(scale(mtcars_s), 5)"
      ],
      "metadata": {
        "id": "IVHn4nhevJrK"
      },
      "execution_count": null,
      "outputs": []
    },
    {
      "cell_type": "code",
      "source": [
        "x <- seq(-3, 3, 0.1)\n",
        "y <- dnorm(x)\n",
        "data <- data.frame(x = x, y = y)\n",
        "ggplot(data, aes(x = x, y = y)) + \n",
        "  geom_line() + \n",
        "  labs(x = \"NOrmal Deviate\", \n",
        "       y = \"Density\") + \n",
        "  scale_x_continuous(breaks = seq(-3,3,1))"
      ],
      "metadata": {
        "id": "eQPsxI2XvPlJ"
      },
      "execution_count": null,
      "outputs": []
    },
    {
      "cell_type": "code",
      "source": [
        "# area to the left of z=1.96\n",
        "pnorm(1.96)"
      ],
      "metadata": {
        "id": "aZg3TIFYx4kR"
      },
      "execution_count": null,
      "outputs": []
    },
    {
      "cell_type": "code",
      "source": [
        "pnorm(0.0)"
      ],
      "metadata": {
        "id": "6uQyXFolyLhi"
      },
      "execution_count": null,
      "outputs": []
    },
    {
      "cell_type": "code",
      "source": [
        "qnorm(0.5, mean=500, sd = 100) # value of the 50th percentile of a normal distr with 500(10)"
      ],
      "metadata": {
        "id": "6HCemX52yNf2"
      },
      "execution_count": null,
      "outputs": []
    },
    {
      "cell_type": "code",
      "source": [
        "install.packages(\"MultiRNG\")"
      ],
      "metadata": {
        "id": "NzaeRdk3yo8b"
      },
      "execution_count": null,
      "outputs": []
    },
    {
      "cell_type": "code",
      "source": [
        "# creating multivariate normal data \n",
        "library(MultiRNG)\n",
        "options(digits=3)\n",
        "set.seed(133)\n",
        "\n",
        "mean <- c(230.7, 146.7, 3.6)\n",
        "sigma <- matrix(c(15360.8, 6721.2, -47.1,\n",
        "                  6721, 4700.9, -16.5, \n",
        "                  -47.5, -16.5, 0.3), nrow=3, ncol= 3)\n",
        "# draw.d.variate.normal(n, nvar, mean, sigma)\n",
        "mydata <- draw.d.variate.normal(10, 3, mean, sigma)\n",
        "mydata <- as.data.frame(mydata)\n",
        "names(mydata) <- c(\"y\",\"x1\",\"x2\") \n",
        "head(mydata)"
      ],
      "metadata": {
        "id": "u8nbu4VUyScM"
      },
      "execution_count": null,
      "outputs": []
    },
    {
      "cell_type": "code",
      "source": [
        "mydata <- matrix(rnorm(20), nrow=5)\n",
        "dim(mydata)"
      ],
      "metadata": {
        "id": "tz518VykynFK"
      },
      "execution_count": null,
      "outputs": []
    },
    {
      "cell_type": "code",
      "source": [
        "mydata"
      ],
      "metadata": {
        "id": "r8tT__Am1pLb"
      },
      "execution_count": null,
      "outputs": []
    },
    {
      "cell_type": "code",
      "source": [
        "apply(mydata, 1, mean) # by row"
      ],
      "metadata": {
        "id": "TwW5-bSg1Yg6"
      },
      "execution_count": null,
      "outputs": []
    },
    {
      "cell_type": "code",
      "source": [
        "apply(mydata, 2, mean) # by column"
      ],
      "metadata": {
        "id": "TcniOsVd1glF"
      },
      "execution_count": null,
      "outputs": []
    },
    {
      "cell_type": "code",
      "source": [
        "#sapply \n",
        "lapply(1:4, sqrt)\n"
      ],
      "metadata": {
        "id": "OFWAOdv91iGJ"
      },
      "execution_count": null,
      "outputs": []
    },
    {
      "cell_type": "code",
      "source": [
        "?sapply"
      ],
      "metadata": {
        "id": "9t9b3V_-3LA7"
      },
      "execution_count": null,
      "outputs": []
    },
    {
      "cell_type": "code",
      "source": [
        "mylist <- list(x = c(1:3), y = c(2:10))\n",
        "lapply(mylist, sum)"
      ],
      "metadata": {
        "id": "yvJECxD03dVC"
      },
      "execution_count": null,
      "outputs": []
    },
    {
      "cell_type": "code",
      "source": [
        "sapply(mylist, sum)"
      ],
      "metadata": {
        "id": "t9EQH-Vm9VP-"
      },
      "execution_count": null,
      "outputs": []
    },
    {
      "cell_type": "code",
      "source": [
        "#loops\n",
        "\n",
        "for (i in 1:10) {\n",
        "  print(i)\n",
        "}"
      ],
      "metadata": {
        "id": "4wl-1wBU9WoC"
      },
      "execution_count": null,
      "outputs": []
    },
    {
      "cell_type": "code",
      "source": [
        "data_w <- data.frame(ID = c(\"AU\",\"CN\",\"PRK\"),\n",
        "Country = c(\"Australia\", \"China\", \"North Korea\"),\n",
        "LExp1990 = c(76.9, 69.3, 69.9),\n",
        "LExp2000 = c(79.6, 72.0, 65.3),\n",
        "LExp2010 = c(82.0, 75.2, 69.6))\n",
        "\n",
        "data_w"
      ],
      "metadata": {
        "id": "uJeRSm3u-ZqF"
      },
      "execution_count": null,
      "outputs": []
    },
    {
      "cell_type": "code",
      "source": [
        "data_l <- gather(data_w, key=\"Variable\", value=\"Life_Exp\",\n",
        "    c(LExp1990, LExp2000, LExp2010))"
      ],
      "metadata": {
        "id": "BS4LuskI-7ow"
      },
      "execution_count": null,
      "outputs": []
    },
    {
      "cell_type": "code",
      "source": [
        "data_l"
      ],
      "metadata": {
        "id": "HvmujygI_G6V"
      },
      "execution_count": null,
      "outputs": []
    },
    {
      "cell_type": "code",
      "source": [
        "spread(data_l, key = \"Variable\", value = \"Life_Exp\")"
      ],
      "metadata": {
        "id": "SoPFn9HE_IJI"
      },
      "execution_count": null,
      "outputs": []
    },
    {
      "cell_type": "code",
      "source": [
        "head(mtcars,3)"
      ],
      "metadata": {
        "id": "Rh7qhT56_5VW"
      },
      "execution_count": null,
      "outputs": []
    },
    {
      "cell_type": "code",
      "source": [],
      "metadata": {
        "id": "gXpp05RmCXDg"
      },
      "execution_count": null,
      "outputs": []
    },
    {
      "cell_type": "markdown",
      "source": [
        "## Aggregate and group_by\n",
        "This will calculate the average for the columns that fulfils the condition.  For example, aggregate on cyl and gear.  Will first group_by and calculate mean "
      ],
      "metadata": {
        "id": "VtaSMXXpCYDU"
      }
    },
    {
      "cell_type": "code",
      "source": [
        "options(digits=4)\n",
        "agg_data <- aggregate(mtcars, \n",
        "            by = list(mtcars$cyl, mtcars$gear),\n",
        "            FUN = mean, na.rm = TRUE)"
      ],
      "metadata": {
        "id": "nZ3ys5Ya_mTL"
      },
      "execution_count": null,
      "outputs": []
    },
    {
      "cell_type": "code",
      "source": [
        "mtcars %>% filter(cyl==4, gear == 3)"
      ],
      "metadata": {
        "id": "br3CldFEAN2W"
      },
      "execution_count": null,
      "outputs": []
    },
    {
      "cell_type": "code",
      "source": [
        "mtcars %>% filter(cyl == 6, gear == 3) "
      ],
      "metadata": {
        "id": "Ov-1CeOcB4f6"
      },
      "execution_count": null,
      "outputs": []
    },
    {
      "cell_type": "code",
      "source": [
        "(21.4 + 18.1)/2 # avg mpg\n",
        "(258 + 225)/2. # disp"
      ],
      "metadata": {
        "id": "2mRkRoavCC3P"
      },
      "execution_count": null,
      "outputs": []
    },
    {
      "cell_type": "code",
      "source": [
        "agg_data"
      ],
      "metadata": {
        "id": "ke7BQOsk_2bK"
      },
      "execution_count": null,
      "outputs": []
    },
    {
      "cell_type": "code",
      "source": [
        "# Aggregate using dplyr in one step\n",
        "\n",
        "by_mtcars <- mtcars %>% \n",
        "  group_by(cyl, gear) \n",
        "by_mtcars %>% summarise(across(where(is.numeric), ~ mean(.x, na.rm = TRUE)))"
      ],
      "metadata": {
        "id": "JVBvg-RZ_3gK"
      },
      "execution_count": null,
      "outputs": []
    },
    {
      "cell_type": "code",
      "source": [
        "install.packages(\"vcd\")\n",
        "library(vcd)"
      ],
      "metadata": {
        "id": "10NR8q5hFt7l"
      },
      "execution_count": null,
      "outputs": []
    },
    {
      "cell_type": "code",
      "source": [
        "head(Arthritis, 3)"
      ],
      "metadata": {
        "id": "qwvrXSARGRrP"
      },
      "execution_count": null,
      "outputs": []
    },
    {
      "cell_type": "code",
      "source": [
        "ggplot(Arthritis, aes(x = Improved)) + \n",
        "  geom_bar() + \n",
        "    labs(title = \"Bar Chart\",\n",
        "         x = \"Improvement\",\n",
        "         y = \"Frequency\") +\n",
        "    coord_flip() + \n",
        "    theme_classic() "
      ],
      "metadata": {
        "id": "iLQCjogeC1k4"
      },
      "execution_count": null,
      "outputs": []
    },
    {
      "cell_type": "code",
      "source": [
        "# continue chapter 6"
      ],
      "metadata": {
        "id": "mlFZM0VJHQrc"
      },
      "execution_count": null,
      "outputs": []
    },
    {
      "cell_type": "code",
      "source": [],
      "metadata": {
        "id": "xEFADiHlHQoC"
      },
      "execution_count": null,
      "outputs": []
    },
    {
      "cell_type": "code",
      "source": [],
      "metadata": {
        "id": "o4XgsS58HQle"
      },
      "execution_count": null,
      "outputs": []
    },
    {
      "cell_type": "code",
      "source": [],
      "metadata": {
        "id": "_ke7d71zHQiT"
      },
      "execution_count": null,
      "outputs": []
    },
    {
      "cell_type": "code",
      "source": [],
      "metadata": {
        "id": "OkhQM-CRHQe8"
      },
      "execution_count": null,
      "outputs": []
    },
    {
      "cell_type": "code",
      "source": [],
      "metadata": {
        "id": "-NlNS4gCu02c"
      },
      "execution_count": null,
      "outputs": []
    },
    {
      "cell_type": "markdown",
      "source": [
        "## Basic Statistics"
      ],
      "metadata": {
        "id": "hVunMce-uzIk"
      }
    },
    {
      "cell_type": "code",
      "source": [
        "myvars <- c(\"mpg\",\"hp\",\"wt\")\n",
        "summary(mtcars[myvars])"
      ],
      "metadata": {
        "id": "YzmieSfNHXz-"
      },
      "execution_count": null,
      "outputs": []
    },
    {
      "cell_type": "code",
      "source": [
        "sapply(mtcars[myvars], mean)"
      ],
      "metadata": {
        "id": "MPaiIMJPHXwS"
      },
      "execution_count": null,
      "outputs": []
    },
    {
      "cell_type": "code",
      "source": [
        "install.packages(\"Hmisc\")\n",
        "library(Hmisc)"
      ],
      "metadata": {
        "id": "oLBgnOvlHXts"
      },
      "execution_count": null,
      "outputs": []
    },
    {
      "cell_type": "code",
      "source": [
        "describe(mtcars[myvars])"
      ],
      "metadata": {
        "id": "aWtJIWt1HXq0"
      },
      "execution_count": null,
      "outputs": []
    },
    {
      "cell_type": "code",
      "source": [
        "install.packages(\"pastecs\")"
      ],
      "metadata": {
        "id": "cMGsRvs0JG7k"
      },
      "execution_count": null,
      "outputs": []
    },
    {
      "cell_type": "code",
      "source": [
        "library(pastecs)\n",
        "stat.desc(mtcars[myvars])"
      ],
      "metadata": {
        "id": "0cjg_tqWHXnx"
      },
      "execution_count": null,
      "outputs": []
    },
    {
      "cell_type": "code",
      "source": [
        "install.packages(\"psych\")\n",
        "library(psych)"
      ],
      "metadata": {
        "id": "DNv188CGJagK"
      },
      "execution_count": null,
      "outputs": []
    },
    {
      "cell_type": "code",
      "source": [
        "psych::describe(mtcars[myvars])"
      ],
      "metadata": {
        "id": "mjjX89HVHXkj"
      },
      "execution_count": null,
      "outputs": []
    },
    {
      "cell_type": "markdown",
      "source": [
        "## Group statistics"
      ],
      "metadata": {
        "id": "2f3yFErdJ3z9"
      }
    },
    {
      "cell_type": "code",
      "source": [
        "mystats <- function(x, na.omit=FALSE){\n",
        "  if (na.omit)\n",
        "    x = x[!is.na(x)]\n",
        "  m <- mean(x)\n",
        "  n <- length(x)\n",
        "  s <- sd(x)\n",
        "  skew <- sum((x-m)^3/s^3)/n\n",
        "  kurt <- sum((x-m)^4/s^4)/n-3\n",
        "  return(c(n=n, mean-m, stdev=s, \n",
        "         skew=skew, kurtosis=kurt))\n",
        "}"
      ],
      "metadata": {
        "id": "FGJQZqghKsgC"
      },
      "execution_count": null,
      "outputs": []
    },
    {
      "cell_type": "code",
      "source": [
        "dstats <- function(x) sapply(x, mystats)\n",
        "\n",
        "#myvars \n",
        "\n",
        "by(mtcars[myvars],\n",
        "  list(Transmission=mtcars$am,\n",
        "       Engine = mtcars$vs),\n",
        "  FUN=dstats)"
      ],
      "metadata": {
        "id": "0Ni70HsJHXgq"
      },
      "execution_count": null,
      "outputs": []
    },
    {
      "cell_type": "code",
      "source": [
        "install.packages(\"carData\")\n",
        "library(carData)"
      ],
      "metadata": {
        "id": "PuoHqMdFKHiL"
      },
      "execution_count": null,
      "outputs": []
    },
    {
      "cell_type": "code",
      "source": [
        "carData::Salaries %>% head"
      ],
      "metadata": {
        "id": "rDsI4et5fW73"
      },
      "execution_count": null,
      "outputs": []
    },
    {
      "cell_type": "code",
      "source": [
        "carData::Salaries %>% group_by(rank, sex) %>% \n",
        "  summarize(n = n(),\n",
        "            med = median(salary),\n",
        "            mean = mean(salary),\n",
        "            max = max(salary))"
      ],
      "metadata": {
        "id": "A83GQjC3fwaA"
      },
      "execution_count": null,
      "outputs": []
    },
    {
      "cell_type": "code",
      "source": [
        "carData::Salaries %>% group_by(rank, sex) %>% \n",
        "  summarize(n = n(),\n",
        "            med = median(salary),\n",
        "            mean_s = mean(yrs.service),\n",
        "            mean_p = mean(yrs.since.phd),\n",
        "            max = max(salary))"
      ],
      "metadata": {
        "id": "3dEO3xRhgC6V"
      },
      "execution_count": null,
      "outputs": []
    },
    {
      "cell_type": "code",
      "source": [
        "# Other way \n",
        "# **pay attention to the functions supplied as a list**\n",
        "\n",
        "carData::Salaries %>% group_by(rank, sex) %>% \n",
        "            select(yrs.service, yrs.since.phd) %>%\n",
        "            summarise_all(list(mean=mean, std = sd))"
      ],
      "metadata": {
        "id": "LWIig5yXjCPM"
      },
      "execution_count": null,
      "outputs": []
    },
    {
      "cell_type": "code",
      "source": [
        "options(digits=4)\n",
        "vcd::Arthritis %>% head"
      ],
      "metadata": {
        "id": "V1VcV9sIj3Rh"
      },
      "execution_count": null,
      "outputs": []
    },
    {
      "cell_type": "code",
      "source": [
        "table(Arthritis$Improved)"
      ],
      "metadata": {
        "id": "sifVX4ZemAyn"
      },
      "execution_count": null,
      "outputs": []
    },
    {
      "cell_type": "code",
      "source": [
        "str(Arthritis$Improved)"
      ],
      "metadata": {
        "id": "fpZgCRqYmG68"
      },
      "execution_count": null,
      "outputs": []
    },
    {
      "cell_type": "code",
      "source": [
        "tab <- with(Arthritis, table(Improved))\n",
        "tab"
      ],
      "metadata": {
        "id": "Z3wf5FdXmJh_"
      },
      "execution_count": null,
      "outputs": []
    },
    {
      "cell_type": "code",
      "source": [
        "prop.table(tab) * 100"
      ],
      "metadata": {
        "id": "FHmaXP9jmRgz"
      },
      "execution_count": null,
      "outputs": []
    },
    {
      "cell_type": "markdown",
      "source": [
        "## Two-way contingency table \n",
        "\n",
        "Create a two-way contingency type table using Formula type input\n",
        "\n",
        "Note the variables to be used for cross-tab will appear on the right side of the table"
      ],
      "metadata": {
        "id": "wOOUjdWfnXx2"
      }
    },
    {
      "cell_type": "code",
      "source": [
        "## Two way tables \n",
        "\n",
        "tab <- xtabs( ~ Treatment + Improved, data = Arthritis)\n",
        "tab"
      ],
      "metadata": {
        "id": "C9eOd43WmcqX"
      },
      "execution_count": null,
      "outputs": []
    },
    {
      "cell_type": "code",
      "source": [
        "prop.table(tab, 1) # remember dim output 1st number will be for rows"
      ],
      "metadata": {
        "id": "IhNPKwuHnKBP"
      },
      "execution_count": null,
      "outputs": []
    },
    {
      "cell_type": "code",
      "source": [
        "# columns\n",
        "prop.table(tab,2)"
      ],
      "metadata": {
        "id": "nCuM1PgPoVuz"
      },
      "execution_count": null,
      "outputs": []
    },
    {
      "cell_type": "code",
      "source": [
        "library(gmodels)"
      ],
      "metadata": {
        "id": "4-koyAfzo3_Y"
      },
      "execution_count": null,
      "outputs": []
    },
    {
      "cell_type": "code",
      "source": [],
      "metadata": {
        "id": "_lK1Ae5PpL7i"
      },
      "execution_count": null,
      "outputs": []
    }
  ]
}